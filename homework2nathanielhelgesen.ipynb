{
 "cells": [
  {
   "cell_type": "code",
   "execution_count": 85,
   "metadata": {},
   "outputs": [],
   "source": [
    "from collections import Counter\n",
    "\n",
    "\n",
    "class Sequence: #name the sequence something you will remember, call it by name with extensions to spit results\n",
    "    def __init__(self, filename): \n",
    "        self.filename = filename\n",
    "        with open(str(filename), 'r') as f:\n",
    "            self.h = f.readlines()[:1] #.h reads the header and saves it as a function of the class, in case we need this later\n",
    "        with open(filename, 'r') as f:\n",
    "            self.t = f.read()[(len(str(self.h)) - 6):] #.t is a string without the header\n",
    "            self.sequence = ''.join(self.t).upper()\n",
    "            self.sequence = self.sequence.replace(\"\\n\", \"\")\n",
    "            self.sequence = self.sequence.replace(\"\\r\", \"\") #three lines of cleanup\n",
    "        print(self.h)\n",
    "\n",
    "    def nucleotide_count(self): #straightforward\n",
    "        a = self.sequence.count('A')\n",
    "        t = self.sequence.count('T')\n",
    "        c = self.sequence.count('C')\n",
    "        g = self.sequence.count('G')\n",
    "        print(\"In the file {0}, there are: {1} Adenines, {2} Thymines, {3} Cytosines, and {4} Guanines.\".format(self.filename,a,t,c,g))\n",
    "\n",
    "    def ecori_digest_count(self): #also\n",
    "        key = self.sequence.count('GAATTC')\n",
    "        print(\"In the file, {0}, there are: {1} EcoRI Digestion Restricion Sites.\".format(self.filename,key))\n",
    "\n",
    "    def translate_to_proteins(self):\n",
    "        start = 0\n",
    "        self.proteins = []\n",
    "        gencode = {\n",
    "            'ATA': 'I', 'ATC': 'I', 'ATT': 'I', 'ATG': 'M',\n",
    "            'ACA': 'T', 'ACC': 'T', 'ACG': 'T', 'ACT': 'T',\n",
    "            'AAC': 'N', 'AAT': 'N', 'AAA': 'K', 'AAG': 'K',\n",
    "            'AGC': 'S', 'AGT': 'S', 'AGA': 'R', 'AGG': 'R',\n",
    "            'CTA': 'L', 'CTC': 'L', 'CTG': 'L', 'CTT': 'L',\n",
    "            'CCA': 'P', 'CCC': 'P', 'CCG': 'P', 'CCT': 'P',\n",
    "            'CAC': 'H', 'CAT': 'H', 'CAA': 'Q', 'CAG': 'Q',\n",
    "            'CGA': 'R', 'CGC': 'R', 'CGG': 'R', 'CGT': 'R',\n",
    "            'GTA': 'V', 'GTC': 'V', 'GTG': 'V', 'GTT': 'V',\n",
    "            'GCA': 'A', 'GCC': 'A', 'GCG': 'A', 'GCT': 'A',\n",
    "            'GAC': 'D', 'GAT': 'D', 'GAA': 'E', 'GAG': 'E',\n",
    "            'GGA': 'G', 'GGC': 'G', 'GGG': 'G', 'GGT': 'G',\n",
    "            'TCA': 'S', 'TCC': 'S', 'TCG': 'S', 'TCT': 'S',\n",
    "            'TTC': 'F', 'TTT': 'F', 'TTA': 'L', 'TTG': 'L',\n",
    "            'TAC': 'Y', 'TAT': 'Y', 'TAA': '_', 'TAG': '_',\n",
    "            'TGC': 'C', 'TGT': 'C', 'TGA': '_', 'TGG': 'W'}\n",
    "        y = j = 0\n",
    "\n",
    "        while y <= len(self.sequence): # y loop starts at zero and holds the last search start position\n",
    "            if start == 0:\n",
    "                start = self.sequence.find('ATG')\n",
    "            else:\n",
    "                start = self.sequence.find('ATG', y) #find an ATG\n",
    "            protein = ''\n",
    "            amino = ''\n",
    "            protein_count = 0 #reset the counts\n",
    "            for i in range(len(self.sequence[start::3])):# amino length \n",
    "                amino = self.sequence[i:i + 3] #amino length\n",
    "                protein += gencode[amino] #make the protein one amino at a time\n",
    "                protein_count += 1 #count the number, so we know where to search from\n",
    "                if gencode[self.sequence[i:i + 3]] == '_': #stop codon\n",
    "                    break #means stop\n",
    "            self.proteins.append([start, protein]) #each one get's it's own index and list position\n",
    "            y = start + 3 * (3 * protein_count - 2) #update search\n",
    "            \n",
    "            j += 1 #update protein count\n",
    "        types = set(i[1] for i in self.proteins) #for printing only, could be removed, looked nice, fun practice\n",
    "        print('The sequence {0}, \\n contains {1} proteins of {2} types, including:\\n {3}'.format(self.h,len(self.proteins), len(types), types))\n",
    "        \n",
    "\n",
    "    def translate_to_dna(self): #made this below using an easy iterator\n",
    "        revgencode = {'I': ['ATA', 'ATC', 'ATT'],\n",
    "                      'M': ['ATG'],\n",
    "                      'T': ['ACA', 'ACC', 'ACG', 'ACT'],\n",
    "                      'N': ['AAC', 'AAT'],\n",
    "                      'K': ['AAA', 'AAG'],\n",
    "                      'S': ['AGC', 'AGT', 'TCA', 'TCC', 'TCG', 'TCT'],\n",
    "                      'R': ['AGA', 'AGG', 'CGA', 'CGC', 'CGG', 'CGT'],\n",
    "                      'L': ['CTA', 'CTC', 'CTG', 'CTT', 'TTA', 'TTG'],\n",
    "                      'P': ['CCA', 'CCC', 'CCG', 'CCT'],\n",
    "                      'H': ['CAC', 'CAT'],\n",
    "                      'Q': ['CAA', 'CAG'],\n",
    "                      'V': ['GTA', 'GTC', 'GTG', 'GTT'],\n",
    "                      'A': ['GCA', 'GCC', 'GCG', 'GCT'],\n",
    "                      'D': ['GAC', 'GAT'],\n",
    "                      'E': ['GAA', 'GAG'],\n",
    "                      'G': ['GGA', 'GGC', 'GGG', 'GGT'],\n",
    "                      'F': ['TTC', 'TTT'],\n",
    "                      'Y': ['TAC', 'TAT'],\n",
    "                      '_': ['TAA', 'TAG', 'TGA'],\n",
    "                      'C': ['TGC', 'TGT'],\n",
    "                      'W': ['TGG']}\n",
    "        codon = []\n",
    "        for p in str(self.sequence):\n",
    "            pr = str(p) #this seemed to add the needed quotes, I know it looks redundant, help? \n",
    "            codon.append([revgencode[pr]])\n",
    "        codon.append(revgencode['_']) #to force a stop codon into the list\n",
    "        print(codon)\n",
    "\n",
    "\n"
   ]
  },
  {
   "cell_type": "code",
   "execution_count": 90,
   "metadata": {},
   "outputs": [
    {
     "name": "stdout",
     "output_type": "stream",
     "text": [
      "['>gi|1271712971|emb|LT961839.1| unidentified phage genome assembly, chromosome: I\\n']\n",
      "In the file Sequence.fasta.txt, there are: 11118 Adenines, 10239 Thymines, 8106 Cytosines, and 9764 Guanines.\n",
      "In the file, Sequence.fasta.txt, there are: 4 EcoRI Digestion Restricion Sites.\n",
      "The sequence ['>gi|1271712971|emb|LT961839.1| unidentified phage genome assembly, chromosome: I\\n'], \n",
      " contains 434 proteins of 1 types, including:\n",
      " {'SLSHI_'}\n",
      "[113, 178, 345, 395, 459, 865, 923, 977, 1025, 1091, 1156, 1268, 1321, 1429, 1560, 1614, 1662, 1747, 1854, 1913, 2103, 2241, 2356, 2463, 2562, 2619, 2761, 2857, 2914, 3045, 3161, 3220, 3286, 3390, 3552, 3613, 3733, 3820, 3882, 3986, 4040, 4164, 4295, 4433, 4559, 4629, 4687, 4782, 4885, 5022, 5076, 5124, 5238, 5310, 5369, 5425, 5479, 5527, 5584, 5664, 5712, 5787, 5868, 5924, 5993, 6053, 6113, 6313, 6517, 6605, 6661, 6713, 6778, 6917, 6968, 7185, 7242, 7305, 7395, 7495, 7557, 7615, 7680, 7732, 7929, 7978, 8053, 8132, 8208, 8427, 8559, 8634, 8859, 8908, 9082, 9149, 9203, 9256, 9321, 9383, 9513, 9597, 9702, 9762, 9839, 9999, 10131, 10183, 10256, 10308, 10367, 10439, 10542, 10652, 10728, 10796, 10950, 11018, 11070, 11158, 11240, 11343, 11485, 11632, 11811, 11859, 11929, 11989, 12049, 12239, 12294, 12357, 12439, 12514, 12652, 12819, 12955, 13029, 13083, 13282, 13333, 13435, 13483, 13648, 13786, 13887, 13999, 14147, 14258, 14307, 14371, 14426, 14499, 14558, 14646, 14743, 14797, 14845, 14896, 14949, 14999, 15146, 15203, 15401, 15461, 15561, 15631, 15687, 15774, 15864, 15929, 15978, 16034, 16116, 16187, 16287, 16368, 16452, 16503, 16661, 16793, 16889, 16967, 17060, 17236, 17297, 17365, 17576, 17638, 17723, 17804, 17863, 17945, 17995, 18112, 18200, 18256, 18377, 18428, 18502, 18706, 18835, 18925, 18981, 19111, 19204, 19272, 19326, 19379, 19434, 19506, 19581, 19691, 19764, 19887, 20135, 20207, 20263, 20363, 20487, 20601, 20649, 20706, 20763, 20817, 20924, 21020, 21083, 21135, 21281, 21344, 21403, 21525, 21600, 21652, 21709, 21828, 21904, 21982, 22104, 22207, 22379, 22439, 22510, 22634, 22699, 22801, 22859, 22925, 22979, 23033, 23101, 23195, 23293, 23351, 23479, 23653, 23782, 23872, 23951, 24014, 24082, 24224, 24312, 24380, 24586, 24645, 24697, 24804, 24891, 25003, 25058, 25149, 25203, 25251, 25322, 25419, 25568, 25649, 25702, 25784, 25843, 25981, 26036, 26114, 26216, 26300, 26360, 26495, 26551, 26615, 26713, 26852, 26941, 27013, 27099, 27152, 27220, 27278, 27326, 27382, 27454, 27515, 27569, 27697, 27779, 27841, 27890, 27946, 28037, 28213, 28282, 28335, 28432, 28576, 28828, 28945, 28998, 29080, 29137, 29187, 29301, 29371, 29562, 29611, 29659, 29712, 29814, 29961, 30020, 30100, 30190, 30264, 30324, 30378, 30451, 30562, 30627, 30900, 30963, 31011, 31075, 31131, 31180, 31231, 31284, 31473, 31521, 31572, 31626, 31729, 31785, 31845, 31895, 31959, 32147, 32227, 32281, 32335, 32398, 32742, 32793, 32949, 33078, 33157, 33260, 33315, 33381, 33493, 33541, 33608, 33707, 33776, 33825, 33936, 33987, 34046, 34148, 34229, 34350, 34492, 34561, 34703, 34844, 34964, 35025, 35095, 35150, 35300, 35356, 35407, 35564, 35656, 35785, 35911, 36079, 36186, 36234, 36306, 36476, 36549, 36612, 36666, 36722, 36843, 36972, 37022, 37095, 37187, 37278, 37329, 37398, 37448, 37508, 37598, 37719, 37772, 37851, 37902, 37975, 38055, 38117, 38190, 38276, 38356, 38436, 38516, 38584, 38780, 38862, 38927, 38976, 39140, 39205]\n"
     ]
    }
   ],
   "source": [
    "example = Sequence(\"Sequence.fasta.txt\")\n",
    "example.nucleotide_count()\n",
    "example.ecori_digest_count()\n",
    "example.translate_to_proteins()\n",
    "print(list(i[0] for i in example.proteins))"
   ]
  },
  {
   "cell_type": "code",
   "execution_count": 78,
   "metadata": {},
   "outputs": [
    {
     "name": "stdout",
     "output_type": "stream",
     "text": [
      "['> protein sequence\\t\\n']\n",
      "MKTYGNP\n",
      "[[['ATG']], [['AAA', 'AAG']], [['ACA', 'ACC', 'ACG', 'ACT']], [['TAC', 'TAT']], [['GGA', 'GGC', 'GGG', 'GGT']], [['AAC', 'AAT']], [['CCA', 'CCC', 'CCG', 'CCT']], ['TAA', 'TAG', 'TGA']]\n"
     ]
    }
   ],
   "source": [
    "protein_example = Sequence('protein.fasta')\n",
    "print(protein_example.sequence)\n",
    "protein_example.translate_to_dna()"
   ]
  },
  {
   "cell_type": "code",
   "execution_count": 79,
   "metadata": {},
   "outputs": [
    {
     "data": {
      "text/plain": [
       "{'I': ['ATA', 'ATC', 'ATT'],\n",
       " 'M': ['ATG'],\n",
       " 'T': ['ACA', 'ACC', 'ACG', 'ACT'],\n",
       " 'N': ['AAC', 'AAT'],\n",
       " 'K': ['AAA', 'AAG'],\n",
       " 'S': ['AGC', 'AGT', 'TCA', 'TCC', 'TCG', 'TCT'],\n",
       " 'R': ['AGA', 'AGG', 'CGA', 'CGC', 'CGG', 'CGT'],\n",
       " 'L': ['CTA', 'CTC', 'CTG', 'CTT', 'TTA', 'TTG'],\n",
       " 'P': ['CCA', 'CCC', 'CCG', 'CCT'],\n",
       " 'H': ['CAC', 'CAT'],\n",
       " 'Q': ['CAA', 'CAG'],\n",
       " 'V': ['GTA', 'GTC', 'GTG', 'GTT'],\n",
       " 'A': ['GCA', 'GCC', 'GCG', 'GCT'],\n",
       " 'D': ['GAC', 'GAT'],\n",
       " 'E': ['GAA', 'GAG'],\n",
       " 'G': ['GGA', 'GGC', 'GGG', 'GGT'],\n",
       " 'F': ['TTC', 'TTT'],\n",
       " 'Y': ['TAC', 'TAT'],\n",
       " '_': ['TAA', 'TAG', 'TGA'],\n",
       " 'C': ['TGC', 'TGT'],\n",
       " 'W': ['TGG']}"
      ]
     },
     "execution_count": 79,
     "metadata": {},
     "output_type": "execute_result"
    }
   ],
   "source": [
    "def dictinvert(d):\n",
    "    inv = {}\n",
    "    for k, v in d.items():\n",
    "        keys = inv.setdefault(v, [])\n",
    "        keys.append(k)\n",
    "    return inv\n",
    "\n",
    "dictinvert({\n",
    "            'ATA': 'I', 'ATC': 'I', 'ATT': 'I', 'ATG': 'M',\n",
    "            'ACA': 'T', 'ACC': 'T', 'ACG': 'T', 'ACT': 'T',\n",
    "            'AAC': 'N', 'AAT': 'N', 'AAA': 'K', 'AAG': 'K',\n",
    "            'AGC': 'S', 'AGT': 'S', 'AGA': 'R', 'AGG': 'R',\n",
    "            'CTA': 'L', 'CTC': 'L', 'CTG': 'L', 'CTT': 'L',\n",
    "            'CCA': 'P', 'CCC': 'P', 'CCG': 'P', 'CCT': 'P',\n",
    "            'CAC': 'H', 'CAT': 'H', 'CAA': 'Q', 'CAG': 'Q',\n",
    "            'CGA': 'R', 'CGC': 'R', 'CGG': 'R', 'CGT': 'R',\n",
    "            'GTA': 'V', 'GTC': 'V', 'GTG': 'V', 'GTT': 'V',\n",
    "            'GCA': 'A', 'GCC': 'A', 'GCG': 'A', 'GCT': 'A',\n",
    "            'GAC': 'D', 'GAT': 'D', 'GAA': 'E', 'GAG': 'E',\n",
    "            'GGA': 'G', 'GGC': 'G', 'GGG': 'G', 'GGT': 'G',\n",
    "            'TCA': 'S', 'TCC': 'S', 'TCG': 'S', 'TCT': 'S',\n",
    "            'TTC': 'F', 'TTT': 'F', 'TTA': 'L', 'TTG': 'L',\n",
    "            'TAC': 'Y', 'TAT': 'Y', 'TAA': '_', 'TAG': '_',\n",
    "            'TGC': 'C', 'TGT': 'C', 'TGA': '_', 'TGG': 'W'})"
   ]
  },
  {
   "cell_type": "code",
   "execution_count": null,
   "metadata": {},
   "outputs": [],
   "source": []
  }
 ],
 "metadata": {
  "kernelspec": {
   "display_name": "Python 3",
   "language": "python",
   "name": "python3"
  },
  "language_info": {
   "codemirror_mode": {
    "name": "ipython",
    "version": 3
   },
   "file_extension": ".py",
   "mimetype": "text/x-python",
   "name": "python",
   "nbconvert_exporter": "python",
   "pygments_lexer": "ipython3",
   "version": "3.6.9"
  }
 },
 "nbformat": 4,
 "nbformat_minor": 4
}
