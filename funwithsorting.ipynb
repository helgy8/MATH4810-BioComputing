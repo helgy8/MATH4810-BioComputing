{
 "cells": [
  {
   "cell_type": "code",
   "execution_count": 65,
   "metadata": {},
   "outputs": [],
   "source": [
    "def sortram(data,direction=1,deep=0):\n",
    "    while deep<len(data):\n",
    "        for i in range(len(data)+1)[1:-deep:direction]:\n",
    "            a = data[i]\n",
    "            b = data[i-1]\n",
    "            if a<b:\n",
    "                data[i] = b\n",
    "                data[i-1] = a\n",
    "        deep += 1\n",
    "        sortram(data,direction,deep)\n",
    "    return data"
   ]
  },
  {
   "cell_type": "code",
   "execution_count": 66,
   "metadata": {},
   "outputs": [
    {
     "data": {
      "text/plain": [
       "[1, 2, 2, 3, 3, 5, 6, 8, 8, 11, 12]"
      ]
     },
     "execution_count": 66,
     "metadata": {},
     "output_type": "execute_result"
    }
   ],
   "source": [
    "c=[1,3,6,2,8,11,12,3,5,8,2]\n",
    "sortram(c)"
   ]
  },
  {
   "cell_type": "code",
   "execution_count": 72,
   "metadata": {},
   "outputs": [
    {
     "name": "stdout",
     "output_type": "stream",
     "text": [
      "[ 4  7  6  6 13  9 17  9  2  9 14 16  1 10 16 10 18  6 13 19]\n"
     ]
    },
    {
     "data": {
      "text/plain": [
       "array([ 1,  2,  4,  6,  6,  6,  7,  9,  9,  9, 10, 10, 13, 13, 14, 16, 16,\n",
       "       17, 18, 19])"
      ]
     },
     "execution_count": 72,
     "metadata": {},
     "output_type": "execute_result"
    }
   ],
   "source": [
    "import numpy as np\n",
    "c = np.random.randint(low=1, high=20, size=20)\n",
    "print(c)\n",
    "sortram(c)\n"
   ]
  },
  {
   "cell_type": "code",
   "execution_count": 82,
   "metadata": {},
   "outputs": [],
   "source": [
    "def sortram1(data,direction=1,deep=0):\n",
    "    while deep<len(data):\n",
    "        for i in range(len(data)+1)[1:-deep:direction]:\n",
    "            if data[i] < data[i-1]:\n",
    "                data[i], data[i-1] = data[i-1], data[i]\n",
    "        deep += 1\n",
    "        sortram1(data,direction,deep)\n",
    "    return data"
   ]
  },
  {
   "cell_type": "code",
   "execution_count": 83,
   "metadata": {},
   "outputs": [
    {
     "data": {
      "text/plain": [
       "array([ 2,  3,  3,  4,  4,  5,  5,  6,  9, 10, 11, 12, 14, 14, 16, 17, 17,\n",
       "       18, 19, 19])"
      ]
     },
     "execution_count": 83,
     "metadata": {},
     "output_type": "execute_result"
    }
   ],
   "source": [
    "\n",
    "sortram1(c)"
   ]
  },
  {
   "cell_type": "code",
   "execution_count": 57,
   "metadata": {},
   "outputs": [],
   "source": [
    "\n",
    "def sortelk(data,direction=1,top=0,bottom=1,smallest=None):\n",
    "    while top<len(data):\n",
    "        for i in range(len(data)+1)[bottom:-top:direction]:\n",
    "            if smallest == None or data[i-1] < smallest:\n",
    "                smallest = data[i-1]\n",
    "            elif data[i-1]==smallest:\n",
    "                bottom+=1\n",
    "                smallest=None\n",
    "            elif data[i] < data[i-1]:\n",
    "                data[i], data[i-1] = data[i-1], data[i]\n",
    "        top += 1\n",
    "        sortelk(data,direction,top,bottom)\n",
    "    return data\n",
    "\n"
   ]
  },
  {
   "cell_type": "code",
   "execution_count": 58,
   "metadata": {},
   "outputs": [
    {
     "data": {
      "text/plain": [
       "[1, 2, 2, 3, 3, 5, 6, 8, 8, 11, 12]"
      ]
     },
     "execution_count": 58,
     "metadata": {},
     "output_type": "execute_result"
    }
   ],
   "source": [
    "c=[1,3,6,2,8,11,12,3,5,8,2]\n",
    "sortelk(c)"
   ]
  },
  {
   "cell_type": "code",
   "execution_count": 77,
   "metadata": {},
   "outputs": [
    {
     "data": {
      "text/plain": [
       "array([ 2,  2,  2,  5,  7,  8,  8, 11, 12, 14, 14, 14, 16, 17, 17, 17, 17,\n",
       "       18, 19, 19])"
      ]
     },
     "execution_count": 77,
     "metadata": {},
     "output_type": "execute_result"
    }
   ],
   "source": [
    "c = np.random.randint(low=1, high=20, size=20)\n",
    "sortelk(c)"
   ]
  },
  {
   "cell_type": "code",
   "execution_count": 78,
   "metadata": {},
   "outputs": [],
   "source": [
    "\n",
    "c = np.random.randint(low=1, high=20, size=20)\n",
    "def wrapper(func, *args, **kwargs):\n",
    "    def wrapped():\n",
    "        return func(*args, **kwargs)\n",
    "    return wrapped\n",
    "\n"
   ]
  },
  {
   "cell_type": "code",
   "execution_count": 80,
   "metadata": {},
   "outputs": [
    {
     "data": {
      "text/plain": [
       "5.38550946200121"
      ]
     },
     "execution_count": 80,
     "metadata": {},
     "output_type": "execute_result"
    }
   ],
   "source": [
    "import timeit\n",
    "wrapelk = wrapper(sortelk,c,direction=1,top=0,bottom=1,smallest=None)\n",
    "timeit.timeit(wrapelk,number = 5)\n"
   ]
  },
  {
   "cell_type": "code",
   "execution_count": 81,
   "metadata": {},
   "outputs": [
    {
     "data": {
      "text/plain": [
       "12.559534374999203"
      ]
     },
     "execution_count": 81,
     "metadata": {},
     "output_type": "execute_result"
    }
   ],
   "source": [
    "import timeit\n",
    "wrapram = wrapper(sortram,c,direction=1,deep=0)\n",
    "timeit.timeit(wrapram,number = 5)\n",
    "\n"
   ]
  },
  {
   "cell_type": "code",
   "execution_count": 84,
   "metadata": {},
   "outputs": [
    {
     "data": {
      "text/plain": [
       "12.123437879999983"
      ]
     },
     "execution_count": 84,
     "metadata": {},
     "output_type": "execute_result"
    }
   ],
   "source": [
    "import timeit\n",
    "wrapram1 = wrapper(sortram1,c,direction=1,deep=0)\n",
    "timeit.timeit(wrapram1,number = 5)"
   ]
  },
  {
   "cell_type": "code",
   "execution_count": 99,
   "metadata": {},
   "outputs": [
    {
     "data": {
      "text/plain": [
       "0.00023136799973144662"
      ]
     },
     "execution_count": 99,
     "metadata": {},
     "output_type": "execute_result"
    }
   ],
   "source": [
    "import timeit\n",
    "d = c.sort\n",
    "timeit.timeit(d,number = 5)"
   ]
  },
  {
   "cell_type": "markdown",
   "metadata": {},
   "source": [
    "Woah. That's Fast."
   ]
  },
  {
   "cell_type": "code",
   "execution_count": null,
   "metadata": {},
   "outputs": [],
   "source": []
  }
 ],
 "metadata": {
  "kernelspec": {
   "display_name": "Python 3",
   "language": "python",
   "name": "python3"
  },
  "language_info": {
   "codemirror_mode": {
    "name": "ipython",
    "version": 3
   },
   "file_extension": ".py",
   "mimetype": "text/x-python",
   "name": "python",
   "nbconvert_exporter": "python",
   "pygments_lexer": "ipython3",
   "version": "3.6.9"
  }
 },
 "nbformat": 4,
 "nbformat_minor": 4
}
